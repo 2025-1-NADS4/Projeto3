{
 "cells": [
  {
   "cell_type": "code",
   "execution_count": 16,
   "id": "ec00d8d8-3ac1-466b-895e-c0bcfdc15f0a",
   "metadata": {},
   "outputs": [
    {
     "name": "stdin",
     "output_type": "stream",
     "text": [
      "\n",
      "Digite a quantidade de km desejada:  5\n"
     ]
    },
    {
     "name": "stdout",
     "output_type": "stream",
     "text": [
      "\n",
      "Valores estimados para a distância informada:\n",
      "       ProductID  Valor_Estimado\n",
      "0            Bag       13.942128\n",
      "1          Black       15.689174\n",
      "2      Black Bag       18.799329\n",
      "3        Comfort       12.344461\n",
      "4          Flash        8.147138\n",
      "5    Flash Bikes        2.245921\n",
      "6     Flash Moto        4.116055\n",
      "7           Moto        3.744472\n",
      "8           Taxi       12.426846\n",
      "9     Uber Flash        6.650368\n",
      "10    Uber Promo        7.032111\n",
      "11     UberFlash        7.968606\n",
      "12         UberX        8.200309\n",
      "13   UberX Promo        5.476485\n",
      "14       WPP-1-1       14.233148\n",
      "15      WPP-42-1       17.820440\n",
      "16       WPP-5-5       16.090370\n",
      "17       WPP-7-6       10.380055\n",
      "18     comfort99       11.097199\n",
      "19    delivery99        9.133953\n",
      "20         pop99       10.398423\n",
      "21       poupa99        9.192395\n",
      "22  regular-taxi       17.705837\n",
      "23         top99       19.429579\n",
      "24    turbo-taxi       17.264754\n"
     ]
    }
   ],
   "source": [
    "import pandas as pd\n",
    "import numpy as np\n",
    "import random\n",
    "\n",
    "df = pd.read_csv(\"rideestimative_v3.csv\", sep=\";\") \n",
    "\n",
    "df[\"Price\"] = pd.to_numeric(df[\"Price\"], errors=\"coerce\")\n",
    "df[\"km\"] = pd.to_numeric(df[\"km\"], errors=\"coerce\")\n",
    "\n",
    "df.dropna(subset=[\"Price\", \"km\"], inplace=True)\n",
    "\n",
    "df[\"Price_per_km\"] = df[\"Price\"] / df[\"km\"]\n",
    "\n",
    "fatores = {\n",
    "    \"chuva\": 1.10,     \n",
    "    \"feriado\": 1.15,   \n",
    "    \"transito\": 1.20  \n",
    "}\n",
    "\n",
    "fatores_aplicados = {chave: random.choice([True, False]) for chave in fatores}\n",
    "\n",
    "fator_aplicado = 1.0\n",
    "fatores_selecionados = []\n",
    "\n",
    "for fator, ativo in fatores_aplicados.items():\n",
    "    if ativo:\n",
    "        fator_aplicado *= fatores[fator]\n",
    "        fatores_selecionados.append(fator)\n",
    "\n",
    "df[\"Fator_Ajuste\"] = \", \".join(fatores_selecionados) if fatores_selecionados else \"nenhum\"\n",
    "df[\"Fator_Ajuste_Valor\"] = fator_aplicado\n",
    "df[\"Price_per_km_ajustado\"] = df[\"Price_per_km\"] * fator_aplicado\n",
    "\n",
    "df[\"Variacao_Aleatoria\"] = np.random.uniform(-variacao_maxima, variacao_maxima, size=len(df))\n",
    "df[\"Price_per_km_ajustado\"] *= (1 + df[\"Variacao_Aleatoria\"])\n",
    "\n",
    "df[\"Variacao_Considerada\"] = df[\"Fator_Ajuste\"] + \" \" + df[\"Variacao_Aleatoria\"].round(4).astype(str)\n",
    "\n",
    "media_por_produto = df.groupby(\"ProductID\")[\"Price_per_km_ajustado\"].mean().reset_index()\n",
    "\n",
    "\n",
    "km_desejado = float(input(\"\\nDigite a quantidade de km desejada: \"))\n",
    "\n",
    "media_por_produto[\"Valor_Estimado\"] = media_por_produto[\"Price_per_km_ajustado\"] * km_desejado\n",
    "\n",
    "print(\"\\nValores estimados para a distância informada:\")\n",
    "print(media_por_produto[[\"ProductID\", \"Valor_Estimado\"]])\n",
    "\n",
    "\n",
    "fatores_df = pd.DataFrame({\n",
    "    \"Fatores_Aplicados\": [\", \".join(fatores_selecionados)], \n",
    "    \"Fator_Total\": [fator_aplicado]\n",
    "})\n",
    "\n"
   ]
  },
  {
   "cell_type": "code",
   "execution_count": null,
   "id": "842aa1dd-8df8-4654-9885-c931c05613bd",
   "metadata": {},
   "outputs": [],
   "source": []
  }
 ],
 "metadata": {
  "kernelspec": {
   "display_name": "Python 3 (ipykernel)",
   "language": "python",
   "name": "python3"
  },
  "language_info": {
   "codemirror_mode": {
    "name": "ipython",
    "version": 3
   },
   "file_extension": ".py",
   "mimetype": "text/x-python",
   "name": "python",
   "nbconvert_exporter": "python",
   "pygments_lexer": "ipython3",
   "version": "3.11.7"
  }
 },
 "nbformat": 4,
 "nbformat_minor": 5
}
