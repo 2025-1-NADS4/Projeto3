{
 "cells": [
  {
   "cell_type": "markdown",
   "id": "fb47745e-d06d-45b1-9b46-7e8d69d3b5a3",
   "metadata": {},
   "source": [
    "# Excluir Colunas da tabela rideaddress_v1"
   ]
  },
  {
   "cell_type": "code",
   "execution_count": 10,
   "id": "6aac8a95-6f96-4d2c-9557-eeb32172996e",
   "metadata": {},
   "outputs": [],
   "source": [
    "import pandas as pd\n",
    "\n",
    "rideaddress_v1 = pd.read_csv('rideaddress_v1.csv', sep=';', low_memory=False)\n",
    "\n",
    "rideaddress_v1 = pd.DataFrame(rideaddress_v1)\n",
    "\n",
    "rideaddress_v1 = rideaddress_v1.drop(columns=[\"Address\", \"Street\", \"Number\", \"Neighborhood\", \"City\", \"State\"])\n",
    "\n",
    "rideaddress_v1.to_csv('rideaddress_v1_Limpo.csv', sep=';', index=False)\n"
   ]
  },
  {
   "cell_type": "markdown",
   "id": "a8a07039-8c0c-4c35-a986-09ac56240693",
   "metadata": {},
   "source": [
    "# Ajustar Coluna Lat e Lng"
   ]
  },
  {
   "cell_type": "code",
   "execution_count": 11,
   "id": "4ae78dc1-d39c-460f-ae9a-b36408a794c3",
   "metadata": {},
   "outputs": [
    {
     "name": "stdout",
     "output_type": "stream",
     "text": [
      "Arquivo 'FormatarLatLng.csv' salvo com sucesso!\n"
     ]
    }
   ],
   "source": [
    "import pandas as pd\n",
    "\n",
    "df = pd.read_csv('rideaddress_v1.csv', sep=';', low_memory=False)\n",
    "\n",
    "\n",
    "df[\"Lat\"] = df[\"Lat\"].astype(str)\n",
    "df[\"Lng\"] = df[\"Lng\"].astype(str)\n",
    "\n",
    "\n",
    "def ajustarCoordenadas(value):\n",
    "\n",
    "    limpar = value.replace('.', '')\n",
    "    formatar = limpar[:3] + \".\" + limpar[3:]\n",
    "    return formatar\n",
    "\n",
    "df[\"Lat\"] = df[\"Lat\"].apply(ajustarCoordenadas)\n",
    "df[\"Lng\"] = df[\"Lng\"].apply(ajustarCoordenadas)\n",
    "\n",
    "df[\"Coordenadas\"] = df[\"Lat\"] + \", \" + df[\"Lng\"]\n",
    "\n",
    "df.to_csv('FormatarLatLng.csv', sep=';', index=False)\n",
    "\n",
    "print(\"Arquivo 'FormatarLatLng.csv' salvo com sucesso!\")"
   ]
  },
  {
   "cell_type": "markdown",
   "id": "e9871ae2-fbe3-4697-9cd8-70be41623e29",
   "metadata": {},
   "source": [
    "## Limpar "
   ]
  },
  {
   "cell_type": "code",
   "execution_count": 12,
   "id": "7e71de8c-b00e-43f8-a988-87498b098ca8",
   "metadata": {},
   "outputs": [],
   "source": [
    "import pandas as pd\n",
    "\n",
    "FormatarLatLng = pd.read_csv('FormatarLatLng.csv', sep=';', low_memory=False)\n",
    "\n",
    "FormatarLatLng = pd.DataFrame(FormatarLatLng)\n",
    "\n",
    "FormatarLatLng = FormatarLatLng.drop(columns=[\"Address\", \"Street\", \"Number\", \"Neighborhood\", \"City\", \"State\", \"Lat\", \"Lng\"])\n",
    "\n",
    "FormatarLatLng.to_csv('FormatarLatLng.csv', sep=';', index=False)"
   ]
  },
  {
   "cell_type": "markdown",
   "id": "ffa95f54-fdc3-4a38-a614-e70190d20c1a",
   "metadata": {},
   "source": [
    "# Limpar Tabela rideestimative_v3"
   ]
  },
  {
   "cell_type": "code",
   "execution_count": 17,
   "id": "45bf35bf-8e92-4958-9328-3d019cbffc49",
   "metadata": {},
   "outputs": [
    {
     "name": "stdout",
     "output_type": "stream",
     "text": [
      "0                    Flash\n",
      "1                    UberX\n",
      "2                  Comfort\n",
      "3                  poupa99\n",
      "4                    pop99\n",
      "5               turbo-taxi\n",
      "6             regular-taxi\n",
      "14                    Moto\n",
      "16               UberFlash\n",
      "33              Uber Flash\n",
      "42                   Black\n",
      "48                     Bag\n",
      "49               Black Bag\n",
      "50                    Taxi\n",
      "51              Uber Promo\n",
      "67              Flash Moto\n",
      "120               WPP-42-1\n",
      "121                WPP-1-1\n",
      "122                WPP-5-5\n",
      "131                WPP-7-6\n",
      "223                  top99\n",
      "595              comfort99\n",
      "1208            delivery99\n",
      "1726           UberX Promo\n",
      "2531           Flash Bikes\n",
      "1158448         Prioridade\n",
      "1247652        Uber Planet\n",
      "1247956     Comfort Planet\n",
      "1555848           Original\n",
      "1585439              PTaxi\n",
      "1708318         Moto Flash\n",
      "1947840    delivery-moto99\n",
      "1947938             moto99\n",
      "1998041     UberX Priority\n",
      "Name: ProductID, dtype: object\n"
     ]
    }
   ],
   "source": [
    "import pandas as pd\n",
    "\n",
    "Valores_V3 = pd.read_csv('rideestimative_v3.csv', sep=';', low_memory=False)\n",
    "\n",
    "Valores_V3 = Valores_V3['ProductID'].drop_duplicates()\n",
    "\n",
    "print(Valores_V3)"
   ]
  },
  {
   "cell_type": "code",
   "execution_count": null,
   "id": "fa99eb89-c164-41aa-944f-97401e030c03",
   "metadata": {},
   "outputs": [],
   "source": []
  }
 ],
 "metadata": {
  "kernelspec": {
   "display_name": "Python 3 (ipykernel)",
   "language": "python",
   "name": "python3"
  },
  "language_info": {
   "codemirror_mode": {
    "name": "ipython",
    "version": 3
   },
   "file_extension": ".py",
   "mimetype": "text/x-python",
   "name": "python",
   "nbconvert_exporter": "python",
   "pygments_lexer": "ipython3",
   "version": "3.11.7"
  }
 },
 "nbformat": 4,
 "nbformat_minor": 5
}
